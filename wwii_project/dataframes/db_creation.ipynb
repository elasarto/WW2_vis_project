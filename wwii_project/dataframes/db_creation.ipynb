{
 "cells": [
  {
   "cell_type": "code",
   "execution_count": 23,
   "metadata": {},
   "outputs": [
    {
     "name": "stdout",
     "output_type": "stream",
     "text": [
      "rm: wwii.sqlite.sqlite: No such file or directory\r\n"
     ]
    }
   ],
   "source": [
    "!rm wwii.sqlite.sqlite"
   ]
  },
  {
   "cell_type": "code",
   "execution_count": 24,
   "metadata": {
    "collapsed": true
   },
   "outputs": [],
   "source": [
    "import pandas as pd\n",
    "import numpy as np\n",
    "\n",
    "# Python SQL toolkit and Object Relational Mapper\n",
    "import sqlalchemy\n",
    "from sqlalchemy import create_engine, MetaData\n",
    "from sqlalchemy.ext.declarative import declarative_base\n",
    "from sqlalchemy import Column, Integer, String, Numeric, Text, Float, DateTime"
   ]
  },
  {
   "cell_type": "code",
   "execution_count": 25,
   "metadata": {
    "collapsed": true
   },
   "outputs": [],
   "source": [
    "engine = create_engine(\"sqlite:///wwii.sqlite\")"
   ]
  },
  {
   "cell_type": "code",
   "execution_count": 26,
   "metadata": {
    "collapsed": true
   },
   "outputs": [],
   "source": [
    "conn = engine.connect()"
   ]
  },
  {
   "cell_type": "code",
   "execution_count": 27,
   "metadata": {
    "collapsed": true
   },
   "outputs": [],
   "source": [
    "Base = declarative_base()\n",
    "\n",
    "class Population(Base):\n",
    "    __tablename__ = 'population'\n",
    "\n",
    "    id = Column(Integer, primary_key=True)\n",
    "    country = Column(String)\n",
    "    year_1920 = Column(Float)\n",
    "    year_1921 = Column(Float)\n",
    "    year_1922 = Column(Float)\n",
    "    year_1923 = Column(Float)\n",
    "    year_1924 = Column(Float)\n",
    "    year_1925 = Column(Float)\n",
    "    year_1926 = Column(Float)\n",
    "    year_1927 = Column(Float)\n",
    "    year_1928 = Column(Float)\n",
    "    year_1929 = Column(Float)\n",
    "    year_1930 = Column(Float)\n",
    "    year_1931 = Column(Float)\n",
    "    year_1932 = Column(Float)\n",
    "    year_1933 = Column(Float)\n",
    "    year_1934 = Column(Float)\n",
    "    year_1935 = Column(Float)\n",
    "    year_1936 = Column(Float)\n",
    "    year_1937 = Column(Float)\n",
    "    year_1938 = Column(Float)\n",
    "    year_1939 = Column(Float)\n",
    "    year_1940 = Column(Float)\n",
    "    year_1941 = Column(Float)\n",
    "    year_1942 = Column(Float)\n",
    "    year_1943 = Column(Float)\n",
    "    year_1944 = Column(Float)\n",
    "    year_1945 = Column(Float)\n",
    "    year_1946 = Column(Float)\n",
    "    year_1947 = Column(Float)\n",
    "    year_1948 = Column(Float)\n",
    "    year_1949 = Column(Float)\n",
    "    year_1950 = Column(Float)\n",
    "    year_1951 = Column(Float)\n",
    "    year_1952 = Column(Float)\n",
    "    year_1953 = Column(Float)\n",
    "    year_1954 = Column(Float)\n",
    "    year_1955 = Column(Float)\n",
    "      \n",
    "#     ['country', '1920', '1921', '1922', '1923', '1924', '1925',\n",
    "#        '1926', '1927', '1928', '1929', '1930', '1931', '1932', '1933', '1934',\n",
    "#        '1935', '1936', '1937', '1938', '1939', '1940', '1941', '1942', '1943',\n",
    "#        '1944', '1945', '1946', '1947', '1948', '1949', '1950', '1951', '1952',\n",
    "#        '1953', '1954', '1955'],\n",
    "\n",
    "#station\tdate\tprcp\ttobs\n",
    "    def __repr__(self):\n",
    "        return f\"id={self.id}, name={self.name}\"\n",
    "    \n",
    "class Gdp(Base):\n",
    "    __tablename__ = 'gdp'\n",
    "\n",
    "    id = Column(Integer, primary_key=True)\n",
    "    country = Column(String)\n",
    "    year_1914 = Column(Float)\n",
    "    year_1915 = Column(Float)\n",
    "    year_1916 = Column(Float)\n",
    "    year_1917 = Column(Float)\n",
    "    year_1918 = Column(Float)\n",
    "    year_1919 = Column(Float)\n",
    "    year_1920 = Column(Float)\n",
    "    year_1921 = Column(Float)\n",
    "    year_1922 = Column(Float)\n",
    "    year_1923 = Column(Float)\n",
    "    year_1924 = Column(Float)\n",
    "    year_1925 = Column(Float)\n",
    "    year_1926 = Column(Float)\n",
    "    year_1927 = Column(Float)\n",
    "    year_1928 = Column(Float)\n",
    "    year_1929 = Column(Float)\n",
    "    year_1930 = Column(Float)\n",
    "    year_1931 = Column(Float)\n",
    "    year_1932 = Column(Float)\n",
    "    year_1933 = Column(Float)\n",
    "    year_1934 = Column(Float)\n",
    "    year_1935 = Column(Float)\n",
    "    year_1936 = Column(Float)\n",
    "    year_1937 = Column(Float)\n",
    "    year_1938 = Column(Float)\n",
    "    year_1939 = Column(Float)\n",
    "    year_1940 = Column(Float)\n",
    "    year_1941 = Column(Float)\n",
    "    year_1942 = Column(Float)\n",
    "    year_1943 = Column(Float)\n",
    "    year_1944 = Column(Float)\n",
    "    year_1945 = Column(Float)\n",
    "    year_1946 = Column(Float)\n",
    "    year_1947 = Column(Float)\n",
    "    year_1948 = Column(Float)\n",
    "    year_1949 = Column(Float)\n",
    "    year_1950 = Column(Float)\n",
    "    year_1951 = Column(Float)\n",
    "    year_1952 = Column(Float)\n",
    "    year_1953 = Column(Float)\n",
    "    year_1954 = Column(Float)\n",
    "    year_1955 = Column(Float)\n",
    "\n",
    "#station\tname\tlatitude\tlongitude\televation\n",
    "    def __repr__(self):\n",
    "        return f\"id={self.id}, name={self.name}\"\n",
    "    \n",
    "class Density(Base):\n",
    "    __tablename__ = 'density'\n",
    "\n",
    "    id = Column(Integer, primary_key=True)\n",
    "    country = Column(String)\n",
    "    year_1950 = Column(Float)\n",
    "    year_1951 = Column(Float)\n",
    "    year_1952 = Column(Float)\n",
    "    year_1953 = Column(Float)\n",
    "    year_1954 = Column(Float)\n",
    "    year_1955 = Column(Float)\n",
    "\n",
    "#station\tdate\tprcp\ttobs\n",
    "    def __repr__(self):\n",
    "        return f\"id={self.id}, name={self.name}\"\n",
    "    \n",
    "class Life_Expectancy(Base):\n",
    "    __tablename__ = 'life_expectancy'\n",
    "\n",
    "    id = Column(Integer, primary_key=True)\n",
    "    country = Column(String)\n",
    "    year_1914 = Column(Float)\n",
    "    year_1915 = Column(Float)\n",
    "    year_1916 = Column(Float)\n",
    "    year_1917 = Column(Float)\n",
    "    year_1918 = Column(Float)\n",
    "    year_1919 = Column(Float)\n",
    "    year_1920 = Column(Float)\n",
    "    year_1921 = Column(Float)\n",
    "    year_1922 = Column(Float)\n",
    "    year_1923 = Column(Float)\n",
    "    year_1924 = Column(Float)\n",
    "    year_1925 = Column(Float)\n",
    "    year_1926 = Column(Float)\n",
    "    year_1927 = Column(Float)\n",
    "    year_1928 = Column(Float)\n",
    "    year_1929 = Column(Float)\n",
    "    year_1930 = Column(Float)\n",
    "    year_1931 = Column(Float)\n",
    "    year_1932 = Column(Float)\n",
    "    year_1933 = Column(Float)\n",
    "    year_1934 = Column(Float)\n",
    "    year_1935 = Column(Float)\n",
    "    year_1936 = Column(Float)\n",
    "    year_1937 = Column(Float)\n",
    "    year_1938 = Column(Float)\n",
    "    year_1939 = Column(Float)\n",
    "    year_1940 = Column(Float)\n",
    "    year_1941 = Column(Float)\n",
    "    year_1942 = Column(Float)\n",
    "    year_1943 = Column(Float)\n",
    "    year_1944 = Column(Float)\n",
    "    year_1945 = Column(Float)\n",
    "    year_1946 = Column(Float)\n",
    "    year_1947 = Column(Float)\n",
    "    year_1948 = Column(Float)\n",
    "    year_1949 = Column(Float)\n",
    "    year_1950 = Column(Float)\n",
    "    year_1951 = Column(Float)\n",
    "    year_1952 = Column(Float)\n",
    "    year_1953 = Column(Float)\n",
    "    year_1954 = Column(Float)\n",
    "    year_1955 = Column(Float)\n",
    "\n",
    "#station\tname\tlatitude\tlongitude\televation\n",
    "    def __repr__(self):\n",
    "        return f\"id={self.id}, name={self.name}\"     \n",
    "    "
   ]
  },
  {
   "cell_type": "code",
   "execution_count": 28,
   "metadata": {
    "collapsed": true
   },
   "outputs": [],
   "source": [
    "Base.metadata.create_all(engine)"
   ]
  },
  {
   "cell_type": "code",
   "execution_count": 29,
   "metadata": {
    "collapsed": true
   },
   "outputs": [],
   "source": [
    "population = \"population_final_cleaned.csv\"\n",
    "density = \"density_final_cleaned.csv\"\n",
    "gdp = \"gdp_final_cleaned.csv\"\n",
    "life_exp = \"life_exp_final_cleaned.csv\""
   ]
  },
  {
   "cell_type": "code",
   "execution_count": 30,
   "metadata": {},
   "outputs": [],
   "source": [
    "population_df = pd.read_csv(population)\n",
    "density_df = pd.read_csv(density)\n",
    "gdp_df = pd.read_csv(gdp)\n",
    "life_exp_df = pd.read_csv(life_exp)"
   ]
  },
  {
   "cell_type": "code",
   "execution_count": 31,
   "metadata": {
    "collapsed": true
   },
   "outputs": [],
   "source": [
    "populations = population_df.to_dict(orient='records')"
   ]
  },
  {
   "cell_type": "code",
   "execution_count": 32,
   "metadata": {
    "collapsed": true
   },
   "outputs": [],
   "source": [
    "densities = density_df.to_dict(orient='records')"
   ]
  },
  {
   "cell_type": "code",
   "execution_count": 33,
   "metadata": {
    "collapsed": true
   },
   "outputs": [],
   "source": [
    "gdps = gdp_df.to_dict(orient='records')"
   ]
  },
  {
   "cell_type": "code",
   "execution_count": 34,
   "metadata": {
    "collapsed": true
   },
   "outputs": [],
   "source": [
    "life_expects = life_exp_df.to_dict(orient='records')"
   ]
  },
  {
   "cell_type": "code",
   "execution_count": 35,
   "metadata": {},
   "outputs": [
    {
     "name": "stdout",
     "output_type": "stream",
     "text": [
      "[{'country': 'Abkhazia', 'year_1920': nan, 'year_1921': nan, 'year_1922': nan, 'year_1923': nan, 'year_1924': nan, 'year_1925': nan, 'year_1926': nan, 'year_1927': nan, 'year_1928': nan, 'year_1929': nan, 'year_1930': nan, 'year_1931': nan, 'year_1932': nan, 'year_1933': nan, 'year_1934': nan, 'year_1935': nan, 'year_1936': nan, 'year_1937': nan, 'year_1938': nan, 'year_1939': nan, 'year_1940': nan, 'year_1941': nan, 'year_1942': nan, 'year_1943': nan, 'year_1944': nan, 'year_1945': nan, 'year_1946': nan, 'year_1947': nan, 'year_1948': nan, 'year_1949': nan, 'year_1950': nan, 'year_1951': nan, 'year_1952': nan, 'year_1953': nan, 'year_1954': nan, 'year_1955': nan}, {'country': 'Afghanistan', 'year_1920': nan, 'year_1921': nan, 'year_1922': nan, 'year_1923': nan, 'year_1924': nan, 'year_1925': nan, 'year_1926': nan, 'year_1927': nan, 'year_1928': nan, 'year_1929': nan, 'year_1930': nan, 'year_1931': nan, 'year_1932': nan, 'year_1933': nan, 'year_1934': nan, 'year_1935': nan, 'year_1936': nan, 'year_1937': nan, 'year_1938': nan, 'year_1939': nan, 'year_1940': nan, 'year_1941': nan, 'year_1942': nan, 'year_1943': nan, 'year_1944': nan, 'year_1945': nan, 'year_1946': nan, 'year_1947': nan, 'year_1948': nan, 'year_1949': nan, 'year_1950': 8151455.0, 'year_1951': 8276820.0, 'year_1952': 8407148.0, 'year_1953': 8542906.0, 'year_1954': 8684494.0, 'year_1955': 8832253.0}]\n"
     ]
    }
   ],
   "source": [
    "print(populations[:2])\n"
   ]
  },
  {
   "cell_type": "code",
   "execution_count": 36,
   "metadata": {},
   "outputs": [
    {
     "name": "stdout",
     "output_type": "stream",
     "text": [
      "[{'country': 'Abkhazia', 'year_1950': nan, 'year_1951': nan, 'year_1952': nan, 'year_1953': nan, 'year_1954': nan, 'year_1955': nan}, {'country': 'Afghanistan', 'year_1950': 12.501, 'year_1951': 12.693, 'year_1952': 12.893, 'year_1953': 13.101, 'year_1954': 13.318, 'year_1955': 13.545}, {'country': 'Akrotiri and Dhekelia', 'year_1950': nan, 'year_1951': nan, 'year_1952': nan, 'year_1953': nan, 'year_1954': nan, 'year_1955': nan}, {'country': 'Albania', 'year_1950': 42.264, 'year_1951': 43.132, 'year_1952': 44.153, 'year_1953': 45.309, 'year_1954': 46.58600000000001, 'year_1955': 47.968}, {'country': 'Algeria', 'year_1950': 3.675, 'year_1951': 3.759, 'year_1952': 3.838, 'year_1953': 3.916, 'year_1954': 3.995, 'year_1955': 4.079}]\n"
     ]
    }
   ],
   "source": [
    "print(densities[:5])\n"
   ]
  },
  {
   "cell_type": "code",
   "execution_count": 37,
   "metadata": {},
   "outputs": [
    {
     "name": "stdout",
     "output_type": "stream",
     "text": [
      "[{'country': 'Abkhazia', 'year_1914': nan, 'year_1915': nan, 'year_1916': nan, 'year_1917': nan, 'year_1918': nan, 'year_1919': nan, 'year_1920': nan, 'year_1921': nan, 'year_1922': nan, 'year_1923': nan, 'year_1924': nan, 'year_1925': nan, 'year_1926': nan, 'year_1927': nan, 'year_1928': nan, 'year_1929': nan, 'year_1930': nan, 'year_1931': nan, 'year_1932': nan, 'year_1933': nan, 'year_1934': nan, 'year_1935': nan, 'year_1936': nan, 'year_1937': nan, 'year_1938': nan, 'year_1939': nan, 'year_1940': nan, 'year_1941': nan, 'year_1942': nan, 'year_1943': nan, 'year_1944': nan, 'year_1945': nan, 'year_1946': nan, 'year_1947': nan, 'year_1948': nan, 'year_1949': nan, 'year_1950': nan, 'year_1951': nan, 'year_1952': nan, 'year_1953': nan, 'year_1954': nan, 'year_1955': nan}, {'country': 'Afghanistan', 'year_1914': nan, 'year_1915': nan, 'year_1916': nan, 'year_1917': nan, 'year_1918': nan, 'year_1919': nan, 'year_1920': nan, 'year_1921': nan, 'year_1922': nan, 'year_1923': nan, 'year_1924': nan, 'year_1925': nan, 'year_1926': nan, 'year_1927': nan, 'year_1928': nan, 'year_1929': nan, 'year_1930': nan, 'year_1931': nan, 'year_1932': nan, 'year_1933': nan, 'year_1934': nan, 'year_1935': nan, 'year_1936': nan, 'year_1937': nan, 'year_1938': nan, 'year_1939': nan, 'year_1940': nan, 'year_1941': nan, 'year_1942': nan, 'year_1943': nan, 'year_1944': nan, 'year_1945': nan, 'year_1946': nan, 'year_1947': nan, 'year_1948': nan, 'year_1949': nan, 'year_1950': 757.3187954, 'year_1951': 766.7521974, 'year_1952': 779.4453145, 'year_1953': 812.8562795, 'year_1954': 815.3595213, 'year_1955': 816.414838}]\n"
     ]
    }
   ],
   "source": [
    "print(gdps[:2])\n"
   ]
  },
  {
   "cell_type": "code",
   "execution_count": 38,
   "metadata": {},
   "outputs": [
    {
     "name": "stdout",
     "output_type": "stream",
     "text": [
      "[{'country': 'Afghanistan', 'year_1914': 27.04288, 'year_1915': 27.03263333, 'year_1916': 27.02238667, 'year_1917': 27.01214, 'year_1918': 7.04506271, 'year_1919': 26.99164667, 'year_1920': 26.9814, 'year_1921': 26.97115333, 'year_1922': 26.96090667, 'year_1923': 26.95066, 'year_1924': 26.94041333, 'year_1925': 26.93016667, 'year_1926': 26.91992, 'year_1927': 26.90967333, 'year_1928': 26.89942667, 'year_1929': 26.88918, 'year_1930': 26.87893333, 'year_1931': 26.86868667, 'year_1932': 26.85844, 'year_1933': 26.84819333, 'year_1934': 26.83794667, 'year_1935': 26.8277, 'year_1936': 26.81745333, 'year_1937': 26.80720667, 'year_1938': 26.79696, 'year_1939': 26.78671333, 'year_1940': 26.77646667, 'year_1941': 26.76622, 'year_1942': 26.75597333, 'year_1943': 26.74572667, 'year_1944': 26.73548, 'year_1945': 26.72523333, 'year_1946': 26.71498667, 'year_1947': 26.70474, 'year_1948': 26.69449333, 'year_1949': 26.68424667, 'year_1950': 26.674, 'year_1951': 26.932, 'year_1952': 27.448, 'year_1953': 27.964, 'year_1954': 28.48, 'year_1955': 28.995}, {'country': 'Albania', 'year_1914': 35.4, 'year_1915': 35.4, 'year_1916': 35.4, 'year_1917': 35.4, 'year_1918': 19.42793192, 'year_1919': 35.4, 'year_1920': 35.4, 'year_1921': 35.4, 'year_1922': 35.4, 'year_1923': 35.4, 'year_1924': 35.4, 'year_1925': 35.4, 'year_1926': 35.4, 'year_1927': 35.4, 'year_1928': 35.4, 'year_1929': 35.4, 'year_1930': 36.29480952, 'year_1931': 37.18961905, 'year_1932': 38.08442857, 'year_1933': 38.9792381, 'year_1934': 39.87404762, 'year_1935': 40.76885714, 'year_1936': 41.66366667, 'year_1937': 42.55847619, 'year_1938': 43.45328571, 'year_1939': 43.0, 'year_1940': 42.0, 'year_1941': 41.5, 'year_1942': 40.0, 'year_1943': 37.0, 'year_1944': 34.0, 'year_1945': 47.0, 'year_1946': 50.0, 'year_1947': 51.50657143, 'year_1948': 52.40138095, 'year_1949': 53.29619048, 'year_1950': 54.191, 'year_1951': 54.399, 'year_1952': 54.87600000000001, 'year_1953': 55.471, 'year_1954': 56.184, 'year_1955': 57.012}]\n"
     ]
    }
   ],
   "source": [
    "print(life_expects[:2])"
   ]
  },
  {
   "cell_type": "code",
   "execution_count": 39,
   "metadata": {
    "collapsed": true
   },
   "outputs": [],
   "source": [
    "metadata = MetaData(bind=engine)\n",
    "metadata.reflect()"
   ]
  },
  {
   "cell_type": "code",
   "execution_count": 40,
   "metadata": {
    "collapsed": true
   },
   "outputs": [],
   "source": [
    "table1 = sqlalchemy.Table('population', metadata, autoload=True)\n",
    "table2 = sqlalchemy.Table('gdp', metadata, autoload=True)\n",
    "table3 = sqlalchemy.Table('density', metadata, autoload=True)\n",
    "table4 = sqlalchemy.Table('life_expectancy', metadata, autoload=True)"
   ]
  },
  {
   "cell_type": "code",
   "execution_count": 41,
   "metadata": {},
   "outputs": [
    {
     "data": {
      "text/plain": [
       "<sqlalchemy.engine.result.ResultProxy at 0x106df97f0>"
      ]
     },
     "execution_count": 41,
     "metadata": {},
     "output_type": "execute_result"
    }
   ],
   "source": [
    "conn.execute(table1.insert(), populations)\n",
    "conn.execute(table2.insert(), gdps)\n",
    "conn.execute(table3.insert(), densities)\n",
    "conn.execute(table4.insert(), life_expects)"
   ]
  },
  {
   "cell_type": "code",
   "execution_count": 43,
   "metadata": {},
   "outputs": [
    {
     "data": {
      "text/plain": [
       "[(1, 'Abkhazia', None, None, None, None, None, None, None, None, None, None, None, None, None, None, None, None, None, None, None, None, None, None, None, None, None, None, None, None, None, None, None, None, None, None, None, None),\n",
       " (2, 'Afghanistan', None, None, None, None, None, None, None, None, None, None, None, None, None, None, None, None, None, None, None, None, None, None, None, None, None, None, None, None, None, None, 8151455.0, 8276820.0, 8407148.0, 8542906.0, 8684494.0, 8832253.0),\n",
       " (3, 'Akrotiri and Dhekelia', None, None, None, None, None, None, None, None, None, None, None, None, None, None, None, None, None, None, None, None, None, None, None, None, None, None, None, None, None, None, None, None, None, None, None, None),\n",
       " (4, 'Albania', 932000.0, 937000.0, 942000.0, 947000.0, 952000.0, 956000.0, 962000.0, 967000.0, 972000.0, 977000.0, 982000.0, 988000.0, 993000.0, 998000.0, 1003000.0, 1009000.0, 1014000.0, 1030000.0, 1040000.0, 1070000.0, 1088000.0, 1100000.0, 1117000.0, 1119000.0, 1122000.0, 1138000.0, 1154000.0, 1175000.0, 1192000.0, 1209000.0, 1215002.0, 1239971.0, 1269302.0, 1302536.0, 1339240.0, 1378998.0),\n",
       " (5, 'Algeria', None, None, None, None, None, None, None, None, None, None, None, None, None, None, None, None, None, None, None, None, None, None, None, None, None, None, None, None, None, None, 8752997.0, 8953373.0, 9140990.0, 9326099.0, 9515990.0, 9715002.0)]"
      ]
     },
     "execution_count": 43,
     "metadata": {},
     "output_type": "execute_result"
    }
   ],
   "source": [
    "conn.execute(\"select * from population limit 5\").fetchall()"
   ]
  },
  {
   "cell_type": "code",
   "execution_count": 44,
   "metadata": {},
   "outputs": [
    {
     "data": {
      "text/plain": [
       "[(1, 'Abkhazia', None, None, None, None, None, None, None, None, None, None, None, None, None, None, None, None, None, None, None, None, None, None, None, None, None, None, None, None, None, None, None, None, None, None, None, None, None, None, None, None, None, None),\n",
       " (2, 'Afghanistan', None, None, None, None, None, None, None, None, None, None, None, None, None, None, None, None, None, None, None, None, None, None, None, None, None, None, None, None, None, None, None, None, None, None, None, None, 757.3187954, 766.7521974, 779.4453145, 812.8562795, 815.3595213, 816.414838),\n",
       " (3, 'Akrotiri and Dhekelia', None, None, None, None, None, None, None, None, None, None, None, None, None, None, None, None, None, None, None, None, None, None, None, None, None, None, None, None, None, None, None, None, None, None, None, None, None, None, None, None, None, None),\n",
       " (4, 'Albania', None, None, None, None, None, None, None, None, None, None, None, None, None, None, None, 1417.529606, None, None, None, None, None, None, None, None, None, None, None, None, None, None, None, None, None, None, None, None, 1532.353932, 1598.49275, 1601.056136, 1665.794737, 1714.6887760000004, 1807.130587),\n",
       " (5, 'Algeria', None, None, None, None, None, None, None, None, None, None, None, None, None, None, None, None, None, None, None, None, None, None, None, None, None, None, None, None, None, None, None, None, None, None, None, None, 2429.213704, 2397.531111, 2449.008185, 2436.33995, 2557.818507, 2572.474443)]"
      ]
     },
     "execution_count": 44,
     "metadata": {},
     "output_type": "execute_result"
    }
   ],
   "source": [
    "conn.execute(\"select * from gdp limit 5\").fetchall()"
   ]
  },
  {
   "cell_type": "code",
   "execution_count": 46,
   "metadata": {},
   "outputs": [
    {
     "data": {
      "text/plain": [
       "[(1, 'Abkhazia', None, None, None, None, None, None),\n",
       " (2, 'Afghanistan', 12.501, 12.693, 12.893, 13.101, 13.318, 13.545),\n",
       " (3, 'Akrotiri and Dhekelia', None, None, None, None, None, None),\n",
       " (4, 'Albania', 42.264, 43.132, 44.153, 45.309, 46.58600000000001, 47.968),\n",
       " (5, 'Algeria', 3.675, 3.759, 3.838, 3.916, 3.995, 4.079)]"
      ]
     },
     "execution_count": 46,
     "metadata": {},
     "output_type": "execute_result"
    }
   ],
   "source": [
    "conn.execute(\"select * from density limit 5\").fetchall()"
   ]
  },
  {
   "cell_type": "code",
   "execution_count": 47,
   "metadata": {},
   "outputs": [
    {
     "data": {
      "text/plain": [
       "[(1, 'Afghanistan', 27.04288, 27.03263333, 27.02238667, 27.01214, 7.04506271, 26.99164667, 26.9814, 26.97115333, 26.96090667, 26.95066, 26.94041333, 26.93016667, 26.91992, 26.90967333, 26.89942667, 26.88918, 26.87893333, 26.86868667, 26.85844, 26.84819333, 26.83794667, 26.8277, 26.81745333, 26.80720667, 26.79696, 26.78671333, 26.77646667, 26.76622, 26.75597333, 26.74572667, 26.73548, 26.72523333, 26.71498667, 26.70474, 26.69449333, 26.68424667, 26.674, 26.932, 27.448, 27.964, 28.48, 28.995),\n",
       " (2, 'Albania', 35.4, 35.4, 35.4, 35.4, 19.42793192, 35.4, 35.4, 35.4, 35.4, 35.4, 35.4, 35.4, 35.4, 35.4, 35.4, 35.4, 36.29480952, 37.18961905, 38.08442857, 38.9792381, 39.87404762, 40.76885714, 41.66366667, 42.55847619, 43.45328571, 43.0, 42.0, 41.5, 40.0, 37.0, 34.0, 47.0, 50.0, 51.50657143, 52.40138095, 53.29619048, 54.191, 54.399, 54.87600000000001, 55.471, 56.184, 57.012),\n",
       " (3, 'Algeria', 29.1606, 28.6572, 28.28783692, 28.28783692, 22.05666781, 28.28783692, 27.5, 27.5, 27.216, 29.624, 30.968000000000004, 31.64, 30.968000000000004, 26.488000000000003, 29.792, 29.96, 31.136, 29.176, 30.397, 31.521, 30.935, 32.596, 33.696, 31.919, 31.297, 33.36, 33.72, 32.09424196, 31.45652951, 27.18079998, 32.09424196, 30.0, 32.0, 35.0, 37.8, 39.9445, 42.089, 42.283, 42.678, 43.081, 43.493, 43.914),\n",
       " (4, 'American Samoa', None, None, None, None, None, None, None, None, None, None, None, None, None, None, None, None, None, None, None, None, None, None, None, None, None, None, None, None, None, None, None, None, None, None, None, None, None, None, None, None, None, None),\n",
       " (5, 'Andorra', None, None, None, None, None, None, None, None, None, None, None, None, None, None, None, None, None, None, None, None, None, None, None, None, None, None, None, None, None, None, None, None, None, None, None, None, None, None, None, None, None, None)]"
      ]
     },
     "execution_count": 47,
     "metadata": {},
     "output_type": "execute_result"
    }
   ],
   "source": [
    "conn.execute(\"select * from life_expectancy limit 5\").fetchall()"
   ]
  },
  {
   "cell_type": "code",
   "execution_count": null,
   "metadata": {
    "collapsed": true
   },
   "outputs": [],
   "source": []
  },
  {
   "cell_type": "code",
   "execution_count": null,
   "metadata": {
    "collapsed": true
   },
   "outputs": [],
   "source": []
  },
  {
   "cell_type": "code",
   "execution_count": null,
   "metadata": {
    "collapsed": true
   },
   "outputs": [],
   "source": []
  },
  {
   "cell_type": "code",
   "execution_count": null,
   "metadata": {
    "collapsed": true
   },
   "outputs": [],
   "source": []
  },
  {
   "cell_type": "code",
   "execution_count": null,
   "metadata": {
    "collapsed": true
   },
   "outputs": [],
   "source": []
  },
  {
   "cell_type": "code",
   "execution_count": null,
   "metadata": {
    "collapsed": true
   },
   "outputs": [],
   "source": []
  }
 ],
 "metadata": {
  "kernelspec": {
   "display_name": "Python 3",
   "language": "python",
   "name": "python3"
  },
  "language_info": {
   "codemirror_mode": {
    "name": "ipython",
    "version": 3
   },
   "file_extension": ".py",
   "mimetype": "text/x-python",
   "name": "python",
   "nbconvert_exporter": "python",
   "pygments_lexer": "ipython3",
   "version": "3.6.3"
  }
 },
 "nbformat": 4,
 "nbformat_minor": 2
}
