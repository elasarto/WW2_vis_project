{
 "cells": [
  {
   "cell_type": "code",
   "execution_count": 1,
   "metadata": {
    "collapsed": true
   },
   "outputs": [],
   "source": [
    "import pandas as pd\n",
    "import numpy as np\n",
    "\n",
    "# Python SQL toolkit and Object Relational Mapper\n",
    "import sqlalchemy\n",
    "from sqlalchemy import create_engine, MetaData\n",
    "from sqlalchemy.ext.declarative import declarative_base\n",
    "from sqlalchemy import Column, Integer, String, Numeric, Text, Float, DateTime"
   ]
  },
  {
   "cell_type": "code",
   "execution_count": 2,
   "metadata": {
    "collapsed": true
   },
   "outputs": [],
   "source": [
    "engine = create_engine(\"sqlite:///wwii.sqlite\")"
   ]
  },
  {
   "cell_type": "code",
   "execution_count": 3,
   "metadata": {
    "collapsed": true
   },
   "outputs": [],
   "source": [
    "conn = engine.connect()"
   ]
  },
  {
   "cell_type": "code",
   "execution_count": 4,
   "metadata": {
    "collapsed": true
   },
   "outputs": [],
   "source": [
    "Base = declarative_base()\n",
    "\n",
    "class Population(Base):\n",
    "    __tablename__ = 'population'\n",
    "\n",
    "    id = Column(Integer, primary_key=True)\n",
    "    country = Column(String)\n",
    "    year_1920 = Column(Float)\n",
    "    year_1921 = Column(Float)\n",
    "    year_1922 = Column(Float)\n",
    "    year_1923 = Column(Float)\n",
    "    year_1924 = Column(Float)\n",
    "    year_1925 = Column(Float)\n",
    "    year_1926 = Column(Float)\n",
    "    year_1927 = Column(Float)\n",
    "    year_1928 = Column(Float)\n",
    "    year_1929 = Column(Float)\n",
    "    year_1930 = Column(Float)\n",
    "    year_1931 = Column(Float)\n",
    "    year_1932 = Column(Float)\n",
    "    year_1933 = Column(Float)\n",
    "    year_1934 = Column(Float)\n",
    "    year_1935 = Column(Float)\n",
    "    year_1936 = Column(Float)\n",
    "    year_1937 = Column(Float)\n",
    "    year_1938 = Column(Float)\n",
    "    year_1939 = Column(Float)\n",
    "    year_1940 = Column(Float)\n",
    "    year_1941 = Column(Float)\n",
    "    year_1942 = Column(Float)\n",
    "    year_1943 = Column(Float)\n",
    "    year_1944 = Column(Float)\n",
    "    year_1945 = Column(Float)\n",
    "    year_1946 = Column(Float)\n",
    "    year_1947 = Column(Float)\n",
    "    year_1948 = Column(Float)\n",
    "    year_1949 = Column(Float)\n",
    "    year_1950 = Column(Float)\n",
    "    year_1951 = Column(Float)\n",
    "    year_1952 = Column(Float)\n",
    "    year_1953 = Column(Float)\n",
    "    year_1954 = Column(Float)\n",
    "    year_1955 = Column(Float)\n",
    "      \n",
    "#     ['country', '1920', '1921', '1922', '1923', '1924', '1925',\n",
    "#        '1926', '1927', '1928', '1929', '1930', '1931', '1932', '1933', '1934',\n",
    "#        '1935', '1936', '1937', '1938', '1939', '1940', '1941', '1942', '1943',\n",
    "#        '1944', '1945', '1946', '1947', '1948', '1949', '1950', '1951', '1952',\n",
    "#        '1953', '1954', '1955'],\n",
    "\n",
    "#station\tdate\tprcp\ttobs\n",
    "    def __repr__(self):\n",
    "        return f\"id={self.id}, name={self.name}\"\n",
    "    \n",
    "class Gdp(Base):\n",
    "    __tablename__ = 'gdp'\n",
    "\n",
    "    id = Column(Integer, primary_key=True)\n",
    "    country = Column(String)\n",
    "    year_1914 = Column(Float)\n",
    "    year_1915 = Column(Float)\n",
    "    year_1916 = Column(Float)\n",
    "    year_1917 = Column(Float)\n",
    "    year_1918 = Column(Float)\n",
    "    year_1919 = Column(Float)\n",
    "    year_1920 = Column(Float)\n",
    "    year_1921 = Column(Float)\n",
    "    year_1922 = Column(Float)\n",
    "    year_1923 = Column(Float)\n",
    "    year_1924 = Column(Float)\n",
    "    year_1925 = Column(Float)\n",
    "    year_1926 = Column(Float)\n",
    "    year_1927 = Column(Float)\n",
    "    year_1928 = Column(Float)\n",
    "    year_1929 = Column(Float)\n",
    "    year_1930 = Column(Float)\n",
    "    year_1931 = Column(Float)\n",
    "    year_1932 = Column(Float)\n",
    "    year_1933 = Column(Float)\n",
    "    year_1934 = Column(Float)\n",
    "    year_1935 = Column(Float)\n",
    "    year_1936 = Column(Float)\n",
    "    year_1937 = Column(Float)\n",
    "    year_1938 = Column(Float)\n",
    "    year_1939 = Column(Float)\n",
    "    year_1940 = Column(Float)\n",
    "    year_1941 = Column(Float)\n",
    "    year_1942 = Column(Float)\n",
    "    year_1943 = Column(Float)\n",
    "    year_1944 = Column(Float)\n",
    "    year_1945 = Column(Float)\n",
    "    year_1946 = Column(Float)\n",
    "    year_1947 = Column(Float)\n",
    "    year_1948 = Column(Float)\n",
    "    year_1949 = Column(Float)\n",
    "    year_1950 = Column(Float)\n",
    "    year_1951 = Column(Float)\n",
    "    year_1952 = Column(Float)\n",
    "    year_1953 = Column(Float)\n",
    "    year_1954 = Column(Float)\n",
    "    year_1955 = Column(Float)\n",
    "\n",
    "#station\tname\tlatitude\tlongitude\televation\n",
    "    def __repr__(self):\n",
    "        return f\"id={self.id}, name={self.name}\"\n",
    "    \n",
    "class Density(Base):\n",
    "    __tablename__ = 'density'\n",
    "\n",
    "    id = Column(Integer, primary_key=True)\n",
    "    country = Column(String)\n",
    "    year_1950 = Column(Float)\n",
    "    year_1951 = Column(Float)\n",
    "    year_1952 = Column(Float)\n",
    "    year_1953 = Column(Float)\n",
    "    year_1954 = Column(Float)\n",
    "    year_1955 = Column(Float)\n",
    "\n",
    "#station\tdate\tprcp\ttobs\n",
    "    def __repr__(self):\n",
    "        return f\"id={self.id}, name={self.name}\"\n",
    "    \n",
    "class Life_Expectancy(Base):\n",
    "    __tablename__ = 'life_expectancy'\n",
    "\n",
    "    id = Column(Integer, primary_key=True)\n",
    "    country = Column(String)\n",
    "    year_1914 = Column(Float)\n",
    "    year_1915 = Column(Float)\n",
    "    year_1916 = Column(Float)\n",
    "    year_1917 = Column(Float)\n",
    "    year_1918 = Column(Float)\n",
    "    year_1919 = Column(Float)\n",
    "    year_1920 = Column(Float)\n",
    "    year_1921 = Column(Float)\n",
    "    year_1922 = Column(Float)\n",
    "    year_1923 = Column(Float)\n",
    "    year_1924 = Column(Float)\n",
    "    year_1925 = Column(Float)\n",
    "    year_1926 = Column(Float)\n",
    "    year_1927 = Column(Float)\n",
    "    year_1928 = Column(Float)\n",
    "    year_1929 = Column(Float)\n",
    "    year_1930 = Column(Float)\n",
    "    year_1931 = Column(Float)\n",
    "    year_1932 = Column(Float)\n",
    "    year_1933 = Column(Float)\n",
    "    year_1934 = Column(Float)\n",
    "    year_1935 = Column(Float)\n",
    "    year_1936 = Column(Float)\n",
    "    year_1937 = Column(Float)\n",
    "    year_1938 = Column(Float)\n",
    "    year_1939 = Column(Float)\n",
    "    year_1940 = Column(Float)\n",
    "    year_1941 = Column(Float)\n",
    "    year_1942 = Column(Float)\n",
    "    year_1943 = Column(Float)\n",
    "    year_1944 = Column(Float)\n",
    "    year_1945 = Column(Float)\n",
    "    year_1946 = Column(Float)\n",
    "    year_1947 = Column(Float)\n",
    "    year_1948 = Column(Float)\n",
    "    year_1949 = Column(Float)\n",
    "    year_1950 = Column(Float)\n",
    "    year_1951 = Column(Float)\n",
    "    year_1952 = Column(Float)\n",
    "    year_1953 = Column(Float)\n",
    "    year_1954 = Column(Float)\n",
    "    year_1955 = Column(Float)\n",
    "\n",
    "#station\tname\tlatitude\tlongitude\televation\n",
    "    def __repr__(self):\n",
    "        return f\"id={self.id}, name={self.name}\"     \n",
    "    "
   ]
  },
  {
   "cell_type": "code",
   "execution_count": 5,
   "metadata": {
    "collapsed": true
   },
   "outputs": [],
   "source": [
    "Base.metadata.create_all(engine)"
   ]
  },
  {
   "cell_type": "code",
   "execution_count": 6,
   "metadata": {
    "collapsed": true
   },
   "outputs": [],
   "source": [
    "population = \"population_final_cleaned.csv\"\n",
    "density = \"density_final_cleaned.csv\"\n",
    "gdp = \"gdp_final_cleaned.csv\"\n",
    "life_exp = \"life_exp_final_cleaned.csv\""
   ]
  },
  {
   "cell_type": "code",
   "execution_count": 7,
   "metadata": {},
   "outputs": [],
   "source": [
    "population_df = pd.read_csv(population)\n",
    "density_df = pd.read_csv(density)\n",
    "gdp_df = pd.read_csv(gdp)\n",
    "life_exp_df = pd.read_csv(life_exp)"
   ]
  },
  {
   "cell_type": "code",
   "execution_count": 8,
   "metadata": {
    "collapsed": true
   },
   "outputs": [],
   "source": [
    "populations = population_df.to_dict(orient='records')"
   ]
  },
  {
   "cell_type": "code",
   "execution_count": 9,
   "metadata": {
    "collapsed": true
   },
   "outputs": [],
   "source": [
    "densities = density_df.to_dict(orient='records')"
   ]
  },
  {
   "cell_type": "code",
   "execution_count": 10,
   "metadata": {
    "collapsed": true
   },
   "outputs": [],
   "source": [
    "gdps = gdp_df.to_dict(orient='records')"
   ]
  },
  {
   "cell_type": "code",
   "execution_count": 11,
   "metadata": {
    "collapsed": true
   },
   "outputs": [],
   "source": [
    "life_expects = life_exp_df.to_dict(orient='records')"
   ]
  },
  {
   "cell_type": "code",
   "execution_count": 13,
   "metadata": {},
   "outputs": [
    {
     "name": "stdout",
     "output_type": "stream",
     "text": [
      "[{'country': 'Abkhazia', 'year_1920': nan, 'year_1921': nan, 'year_1922': nan, 'year_1923': nan, 'year_1924': nan, 'year_1925': nan, 'year_1926': nan, 'year_1927': nan, 'year_1928': nan, 'year_1929': nan, 'year_1930': nan, 'year_1931': nan, 'year_1932': nan, 'year_1933': nan, 'year_1934': nan, 'year_1935': nan, 'year_1936': nan, 'year_1937': nan, 'year_1938': nan, 'year_1939': nan, 'year_1940': nan, 'year_1941': nan, 'year_1942': nan, 'year_1943': nan, 'year_1944': nan, 'year_1945': nan, 'year_1946': nan, 'year_1947': nan, 'year_1948': nan, 'year_1949': nan, 'year_1950': nan, 'year_1951': nan, 'year_1952': nan, 'year_1953': nan, 'year_1954': nan, 'year_1955': nan}, {'country': 'Afghanistan', 'year_1920': nan, 'year_1921': nan, 'year_1922': nan, 'year_1923': nan, 'year_1924': nan, 'year_1925': nan, 'year_1926': nan, 'year_1927': nan, 'year_1928': nan, 'year_1929': nan, 'year_1930': nan, 'year_1931': nan, 'year_1932': nan, 'year_1933': nan, 'year_1934': nan, 'year_1935': nan, 'year_1936': nan, 'year_1937': nan, 'year_1938': nan, 'year_1939': nan, 'year_1940': nan, 'year_1941': nan, 'year_1942': nan, 'year_1943': nan, 'year_1944': nan, 'year_1945': nan, 'year_1946': nan, 'year_1947': nan, 'year_1948': nan, 'year_1949': nan, 'year_1950': '8,151,455', 'year_1951': '8,276,820', 'year_1952': '8,407,148', 'year_1953': '8,542,906', 'year_1954': '8,684,494', 'year_1955': '8,832,253'}, {'country': 'Akrotiri and Dhekelia', 'year_1920': nan, 'year_1921': nan, 'year_1922': nan, 'year_1923': nan, 'year_1924': nan, 'year_1925': nan, 'year_1926': nan, 'year_1927': nan, 'year_1928': nan, 'year_1929': nan, 'year_1930': nan, 'year_1931': nan, 'year_1932': nan, 'year_1933': nan, 'year_1934': nan, 'year_1935': nan, 'year_1936': nan, 'year_1937': nan, 'year_1938': nan, 'year_1939': nan, 'year_1940': nan, 'year_1941': nan, 'year_1942': nan, 'year_1943': nan, 'year_1944': nan, 'year_1945': nan, 'year_1946': nan, 'year_1947': nan, 'year_1948': nan, 'year_1949': nan, 'year_1950': nan, 'year_1951': nan, 'year_1952': nan, 'year_1953': nan, 'year_1954': nan, 'year_1955': nan}, {'country': 'Albania', 'year_1920': '932,000', 'year_1921': '937,000', 'year_1922': '942,000', 'year_1923': '947,000', 'year_1924': '952,000', 'year_1925': '956,000', 'year_1926': '962,000', 'year_1927': '967,000', 'year_1928': '972,000', 'year_1929': '977,000', 'year_1930': '982,000', 'year_1931': '988,000', 'year_1932': '993,000', 'year_1933': '998,000', 'year_1934': '1,003,000', 'year_1935': '1,009,000', 'year_1936': '1,014,000', 'year_1937': '1,030,000', 'year_1938': '1,040,000', 'year_1939': '1,070,000', 'year_1940': '1,088,000', 'year_1941': '1,100,000', 'year_1942': '1,117,000', 'year_1943': '1,119,000', 'year_1944': '1,122,000', 'year_1945': '1,138,000', 'year_1946': '1,154,000', 'year_1947': '1,175,000', 'year_1948': '1,192,000', 'year_1949': '1,209,000', 'year_1950': '1,215,002', 'year_1951': '1,239,971', 'year_1952': '1,269,302', 'year_1953': '1,302,536', 'year_1954': '1,339,240', 'year_1955': '1,378,998'}, {'country': 'Algeria', 'year_1920': nan, 'year_1921': nan, 'year_1922': nan, 'year_1923': nan, 'year_1924': nan, 'year_1925': nan, 'year_1926': nan, 'year_1927': nan, 'year_1928': nan, 'year_1929': nan, 'year_1930': nan, 'year_1931': nan, 'year_1932': nan, 'year_1933': nan, 'year_1934': nan, 'year_1935': nan, 'year_1936': nan, 'year_1937': nan, 'year_1938': nan, 'year_1939': nan, 'year_1940': nan, 'year_1941': nan, 'year_1942': nan, 'year_1943': nan, 'year_1944': nan, 'year_1945': nan, 'year_1946': nan, 'year_1947': nan, 'year_1948': nan, 'year_1949': nan, 'year_1950': '8,752,997', 'year_1951': '8,953,373', 'year_1952': '9,140,990', 'year_1953': '9,326,099', 'year_1954': '9,515,990', 'year_1955': '9,715,002'}]\n"
     ]
    }
   ],
   "source": [
    "print(populations[:5])\n"
   ]
  },
  {
   "cell_type": "code",
   "execution_count": null,
   "metadata": {
    "collapsed": true
   },
   "outputs": [],
   "source": [
    "print(densities[:5])\n",
    "print(gdps[:5])\n",
    "print(life_expects[:5])"
   ]
  },
  {
   "cell_type": "code",
   "execution_count": null,
   "metadata": {
    "collapsed": true
   },
   "outputs": [],
   "source": []
  },
  {
   "cell_type": "code",
   "execution_count": null,
   "metadata": {
    "collapsed": true
   },
   "outputs": [],
   "source": []
  }
 ],
 "metadata": {
  "kernelspec": {
   "display_name": "Python 3",
   "language": "python",
   "name": "python3"
  },
  "language_info": {
   "codemirror_mode": {
    "name": "ipython",
    "version": 3
   },
   "file_extension": ".py",
   "mimetype": "text/x-python",
   "name": "python",
   "nbconvert_exporter": "python",
   "pygments_lexer": "ipython3",
   "version": "3.6.3"
  }
 },
 "nbformat": 4,
 "nbformat_minor": 2
}
